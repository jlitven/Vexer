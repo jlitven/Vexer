{
 "cells": [
  {
   "cell_type": "code",
   "execution_count": 2,
   "metadata": {
    "collapsed": true
   },
   "outputs": [],
   "source": [
    "from dictionary_parser import word_definition"
   ]
  },
  {
   "cell_type": "code",
   "execution_count": 227,
   "metadata": {
    "collapsed": false
   },
   "outputs": [
    {
     "name": "stdout",
     "output_type": "stream",
     "text": [
      "cool |ko͞ol| ▶adjective 1 of or at a fairly low temperature: it'll be a cool afternoon | the wind kept them cool. • soothing or refreshing because of its low temperature: a cool drink in the leafy shade | figurative : the bathroom was all glass and cool, muted blues. • (esp. of clothing) keeping one from becoming too hot: wear your cool, comfortable shirts. • showing no friendliness toward a person or enthusiasm for an idea or project: he gave a cool reception to the suggestion for a research center. • free from excitement or anxiety: he prided himself on keeping a cool head | she seems cool, calm, and collected. • (of jazz, esp. modern jazz) restrained and relaxed. 2 informal fashionably attractive or impressive: I always wore sunglasses to look cool. • excellent: [ as exclamation ] : a computer you didn't even have to plug in. Cool! • used to express acceptance or agreement: if people want to freak out at our clubs, that's cool. 3 (a cool ——) informal used to emphasize a specified quantity or amount, esp. of money: a cool $15,000 to buy the franchise. ▶noun 1 (the cool) a fairly low temperature: the cool of the night air. • a time or place at which the temperature is pleasantly low: the cool of the evening. 2 calmness; composure: he recovered his cool and then started laughing at us. 3 the quality of being fashionably attractive or impressive: all the cool of high fashion. ▶verb become or cause to become less hot: [ no obj. ] : we dived into the river to cool off | figurative : his feelings for her took a long time to cool | [ with obj. ] : cool the pastry for five minutes. • become or cause to become calm or less excited: [ no obj. ] : after I'd cooled off, I realized I was being irrational | [ with obj. ] : George was trying to cool him down. • (cool down) recover from strenuous physical exertion by doing gentle stretches and exercises; warm down. • [ usu. in imperative ] (cool it) informal behave in a less excitable manner: “Cool it and tell me why you're so ecstatic.” PHRASES cool one's heels be kept waiting. keep (or lose) one's cool informal maintain (or fail to maintain) a calm and controlled attitude. play it cool see play. DERIVATIVES cooled adjective a water-cooled engine. coolish adjective. coolly adverb. coolness nounORIGIN Old English cōl (noun), cōlian (verb), of Germanic origin; related to Dutch koel, also to cold .\n"
     ]
    }
   ],
   "source": [
    "import re\n",
    "word = 'cool'\n",
    "definition = word_definition(word)\n",
    "print definition"
   ]
  },
  {
   "cell_type": "code",
   "execution_count": 200,
   "metadata": {
    "collapsed": false
   },
   "outputs": [
    {
     "data": {
      "text/plain": [
       "u'\\u25b6'"
      ]
     },
     "execution_count": 200,
     "metadata": {},
     "output_type": "execute_result"
    }
   ],
   "source": [
    "# find pattern p_o_s 1\n",
    "# TODO: change this to a regular expression\n",
    "# regular expression - re.compile(r'(.*)')\n",
    "t = '▶'.decode('utf-8')\n",
    "definitions = definition.split(t)[1:]\n",
    "for d in definitions:\n",
    "        regex = re.compile(r'(\\w+) (\\w+)(.*:)(.*)')\n",
    "        mo = regex.search(d)\n",
    "        word = mo.group(1)\n",
    "        part_of_speech = mo.group(2)\n",
    "        desc = mo.group(3)[:-1]\n",
    "        usages = mo.group(4)\n",
    "        #print definition\n",
    "t"
   ]
  },
  {
   "cell_type": "code",
   "execution_count": 229,
   "metadata": {
    "collapsed": false
   },
   "outputs": [
    {
     "name": "stdout",
     "output_type": "stream",
     "text": [
      "(u\"adjective 1 of or at a fairly low temperature: it'll be a cool afternoon | the wind kept them cool. \\u2022 soothing or refreshing because of its low temperature: a cool drink in the leafy shade | figurative : the bathroom was all glass and cool, muted blues. \\u2022 (esp. of clothing) keeping one from becoming too hot: wear your cool, comfortable shirts. \\u2022 showing no friendliness toward a person or enthusiasm for an idea or project: he gave a cool reception to the suggestion for a research center. \\u2022 free from excitement or anxiety: he prided himself on keeping a cool head | she seems cool, calm, and collected. \\u2022 (of jazz, esp. modern jazz) restrained and relaxed. 2 informal fashionably attractive or impressive: I always wore sunglasses to look cool. \\u2022 excellent: [ as exclamation ] : a computer you didn't even have to plug in. Cool! \\u2022 used to express acceptance or agreement: if people want to freak out at our clubs, that's cool. 3 (a cool \\u2014\\u2014) informal used to emphasize a specified quantity or amount, esp. of money: a cool $15,000 to buy the franchise. \\u25b6noun 1 (the cool) a fairly low temperature: the cool of the night air. \\u2022 a time or place at which the temperature is pleasantly low: the cool of the evening. 2 calmness; composure: he recovered his cool and then started laughing at us. 3 the quality of being fashionably attractive or impressive: all the cool of high fashion. \\u25b6verb become or cause to become less hot: [ no obj. ] : we dived into the river to cool off | figurative : his feelings for her took a long time to cool | [ with obj. ] : cool the pastry for five minutes. \\u2022 become or cause to become calm or less excited: [ no obj. ] : after I'd cooled off, I realized I was being irrational | [ with obj. ] : George was trying to cool him down. \\u2022 (cool down) recover from strenuous physical exertion by doing gentle stretches and exercises; warm down. \\u2022 [ usu. in imperative ] (cool it) informal behave in a less excitable manner: \\u201cCool it and tell me why you're so ecstatic.\\u201d PHRASES cool one's heels be kept waiting. keep (or lose) one's cool informal maintain (or fail to maintain) a calm and controlled attitude. play it cool see play.\", u' DERIVATIVES ')\n"
     ]
    }
   ],
   "source": [
    "regex = re.compile(t + r'(.*)' + r'(\\u25b6| [A-Z]+ )' )\n",
    "for d in regex.findall(definition):\n",
    "    print d"
   ]
  },
  {
   "cell_type": "code",
   "execution_count": null,
   "metadata": {
    "collapsed": true
   },
   "outputs": [],
   "source": []
  },
  {
   "cell_type": "code",
   "execution_count": null,
   "metadata": {
    "collapsed": true
   },
   "outputs": [],
   "source": []
  }
 ],
 "metadata": {
  "kernelspec": {
   "display_name": "Python 2",
   "language": "python",
   "name": "python2"
  },
  "language_info": {
   "codemirror_mode": {
    "name": "ipython",
    "version": 2
   },
   "file_extension": ".py",
   "mimetype": "text/x-python",
   "name": "python",
   "nbconvert_exporter": "python",
   "pygments_lexer": "ipython2",
   "version": "2.7.11"
  }
 },
 "nbformat": 4,
 "nbformat_minor": 0
}
