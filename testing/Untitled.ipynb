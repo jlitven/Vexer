{
 "cells": [
  {
   "cell_type": "code",
   "execution_count": 95,
   "metadata": {
    "collapsed": false
   },
   "outputs": [
    {
     "name": "stdout",
     "output_type": "stream",
     "text": [
      "corpus\n",
      "noun\n",
      "defn:\n",
      "a collection of written texts, especially the entire works of a particular author or a body of writing on a particular subject.\n",
      "usage:\n",
      "the Darwinian corpus.\n",
      "defn:\n",
      "Anatomy the main body or mass of a structure. .\n",
      "usage:\n",
      "\n",
      "\n",
      "\n"
     ]
    }
   ],
   "source": [
    "# EXPERIMENT\n",
    "# Get dictionary entry from mac dictionary\n",
    "import sys\n",
    "sys.path.append('/Users/alexanderlitven/Projects/vexer/src/vexer')\n",
    "import dictionary_parser\n",
    "reload(dictionary_parser)\n",
    "from dictionary_parser import dictionary_entry, raw_entry\n",
    "\n",
    "word = 'corpus'\n",
    "entry = dictionary_entry(word,3,2)\n",
    "definition = entry.__str__()\n",
    "print definition"
   ]
  },
  {
   "cell_type": "code",
   "execution_count": 4,
   "metadata": {
    "collapsed": false
   },
   "outputs": [
    {
     "name": "stdout",
     "output_type": "stream",
     "text": [
      "Help on package pandoc:\n",
      "\n",
      "NAME\n",
      "    pandoc - # Python 2.7 Standard Library\n",
      "\n",
      "FILE\n",
      "    //anaconda/lib/python2.7/site-packages/pandoc/__init__.py\n",
      "\n",
      "PACKAGE CONTENTS\n",
      "    __main__\n",
      "    about\n",
      "    doctest (package)\n",
      "    tests\n",
      "    types\n",
      "    utils\n",
      "\n",
      "FUNCTIONS\n",
      "    main()\n",
      "        # Main Entry Point\n",
      "        # ------------------------------------------------------------------------------\n",
      "    \n",
      "    read(json_, type_=<class 'pandoc.types.Pandoc'>)\n",
      "        # JSON Reader\n",
      "        # ------------------------------------------------------------------------------\n",
      "    \n",
      "    write(object_)\n",
      "        # JSON Writer\n",
      "        # ------------------------------------------------------------------------------\n",
      "\n",
      "DATA\n",
      "    __author__ = u'S\\xe9bastien Boisg\\xe9rault <Sebastien.Boisgerault@mine...\n",
      "    __keywords__ = '\\n                 software development, topic / ...th...\n",
      "    __license__ = 'MIT License'\n",
      "    __summary__ = 'Pandoc Documents for Python'\n",
      "    __url__ = 'https://github.com/boisgera/pandoc'\n",
      "    __version__ = '1.0.0b2'\n",
      "    absolute_import = _Feature((2, 5, 0, 'alpha', 1), (3, 0, 0, 'alpha', 0...\n",
      "\n",
      "VERSION\n",
      "    1.0.0b2\n",
      "\n",
      "AUTHOR\n",
      "    Sébastien Boisgérault <Sebastien.Boisgerault@mines-paristech.fr>\n",
      "\n",
      "\n"
     ]
    }
   ],
   "source": [
    "import pandoc\n",
    "import os\n",
    "\n",
    "help(pandoc)"
   ]
  },
  {
   "cell_type": "code",
   "execution_count": 72,
   "metadata": {
    "collapsed": false
   },
   "outputs": [
    {
     "data": {
      "text/plain": [
       "u'groovy |\\u02c8\\u0261ro\\u035eov\\u0113| \\u25b6adjective (groovier, grooviest) informal, dated or humorous fashionable and exciting: sporting a groovy new haircut. \\u2022 enjoyable and excellent: he played all the remarkably groovy guitar parts himself. DERIVATIVES groovily |-v\\u0259l\\u0113 | adverb. grooviness noun'"
      ]
     },
     "execution_count": 72,
     "metadata": {},
     "output_type": "execute_result"
    }
   ],
   "source": [
    "# EXPERIMENT\n",
    "# Get raw input\n",
    "word = 'groovy'\n",
    "result = raw_entry(word) \n",
    "result"
   ]
  },
  {
   "cell_type": "code",
   "execution_count": null,
   "metadata": {
    "collapsed": false
   },
   "outputs": [],
   "source": [
    "# EXPERIMENT\n",
    "# remove pronounciation\n",
    "\n",
    "import re\n",
    "pronounciation_regex = r'\\|.*?\\|'\n",
    "regex = re.compile(pronounciation_regex)\n",
    "match = regex.search(definition)\n",
    "better = re.sub(pronounciation_regex, '', definition)\n",
    "print better"
   ]
  },
  {
   "cell_type": "code",
   "execution_count": 91,
   "metadata": {
    "collapsed": false
   },
   "outputs": [
    {
     "name": "stdout",
     "output_type": "stream",
     "text": [
      "noun\n",
      " awek(fj akw)ejl (ajwe)\n"
     ]
    }
   ],
   "source": [
    "# EXPERIMENT\n",
    "# get rid of brackets in part of speech\n",
    "import re\n",
    "text = 'noun (pl. corpora |-pərə| or corpuses) awek(fj akw)ejl (ajwe)'\n",
    "part_of_speech = part_of_speech.split(' ',1)[0]\n",
    "print part_of_speech\n",
    "bracket_regex = part_of_speech + r' \\(.*?\\)'\n",
    "better = re.sub(bracket_regex, '', text, count=1)\n",
    "print better"
   ]
  },
  {
   "cell_type": "code",
   "execution_count": null,
   "metadata": {
    "collapsed": false
   },
   "outputs": [],
   "source": [
    "! pip freeze"
   ]
  },
  {
   "cell_type": "code",
   "execution_count": null,
   "metadata": {
    "collapsed": false
   },
   "outputs": [],
   "source": [
    "# Experiment\n",
    "# Test dictionary lookup\n",
    "import sys\n",
    "sys.path.append('/System/Library/Frameworks/Python.framework/Versions/2.7/Extras/lib/python/PyObjC')\n",
    "from DictionaryServices import DCSCopyTextDefinition\n",
    "word = 'third'\n",
    "word_range = (0, len(word))\n",
    "dictionary_result = DCSCopyTextDefinition(None, word, word_range)\n",
    "type(dictionary_result + u'awefae')"
   ]
  },
  {
   "cell_type": "code",
   "execution_count": null,
   "metadata": {
    "collapsed": false
   },
   "outputs": [],
   "source": [
    "# EXPERIMENT\n",
    "# Regular expressions\n",
    "import re\n",
    "\n",
    "# Parse each arrow symbol from the entry\n",
    "symbol = '▶'.decode('utf-8')\n",
    "symbol_regex = re.compile(symbol)\n",
    "symbols = symbol_regex.findall(entry)\n",
    "\n",
    "# Parse words in caps\n",
    "capital_words = ['PHRASES', 'DERIVATIVES', 'ORIGIN']\n",
    "capitals_regex = re.compile('|'.join(capital_words))\n",
    "capitals = capitals_regex.search(entry)\n",
    "\n",
    "# Parse arrow symbol or word in caps\n",
    "seperators_regex = re.compile('|'.join(capital_words + [t]))\n",
    "seperators = seperators_regex.findall(entry)"
   ]
  },
  {
   "cell_type": "code",
   "execution_count": null,
   "metadata": {
    "collapsed": false
   },
   "outputs": [],
   "source": [
    "# EXPERIMENT\n",
    "# create dictionary entries\n",
    "import re\n",
    "import Wrappers\n",
    "reload(Wrappers)\n",
    "from Wrappers import Definition, DictionaryEntry\n",
    "\n",
    "num_definitions = 1\n",
    "num_parts_of_speech = 4\n",
    "\n",
    "def add_period(string):\n",
    "    if not string[-1] == '.':\n",
    "        return string + '.'\n",
    "    else:\n",
    "        return string\n",
    "\n",
    "symbol = '▶'.decode('utf-8')\n",
    "capital_words = ['PHRASES', 'DERIVATIVES', 'ORIGIN']\n",
    "\n",
    "# Create separator regex\n",
    "separator = '(' + '|'.join(capital_words + [symbol]) + ')'\n",
    "regex = separator + r'(.*?)' + separator\n",
    "separated_text = re.split(regex, entry)\n",
    "\n",
    "# get parts of speech text\n",
    "parts_of_speech_text = []\n",
    "for index, text in enumerate(separated_text):\n",
    "    if symbol in text:\n",
    "        parts_of_speech_text.append(separated_text[index+1])\n",
    "\n",
    "dict_entry = DictionaryEntry()\n",
    "#text = parts_of_speech_text[0]\n",
    "for text in parts_of_speech_text:\n",
    "    \n",
    "    # split the text by numbers, otherwise by first word\n",
    "    split_text = re.split(r' \\d ', text)\n",
    "    if len(split_text) == 1:\n",
    "        split_text = text.split(' ', 1)\n",
    "\n",
    "    part_of_speech = split_text[0]\n",
    "        \n",
    "    for definitions in split_text[1:]:\n",
    "\n",
    "        # only grab first definition\n",
    "        dot = '•'.decode('utf-8')\n",
    "        dot_index = definitions.find(dot)\n",
    "        definition_text = definitions[:dot_index]\n",
    "        colon_index = definition_text.find(':')\n",
    "        description = definition_text[:colon_index].strip()\n",
    "        description = add_period(description)\n",
    "        \n",
    "        usages = []\n",
    "        if colon_index > 0:\n",
    "            usages = definition_text[colon_index+1:].split('|')\n",
    "            usages = [add_period(usage.strip()) \n",
    "                      for usage in usages]\n",
    "\n",
    "        definition = Definition(description, usages)\n",
    "        dict_entry.add_definition(part_of_speech, definition)\n",
    "        if len(dict_entry[part_of_speech]) == num_definitions:\n",
    "            break\n",
    "    if len(dict_entry.items()) == num_parts_of_speech:\n",
    "        break"
   ]
  },
  {
   "cell_type": "code",
   "execution_count": null,
   "metadata": {
    "collapsed": false
   },
   "outputs": [],
   "source": [
    "# experiment\n",
    "# display the definitions\n",
    "for part_of_speech, definitions in dict_entry.iteritems():\n",
    "    print part_of_speech + '\\n'\n",
    "    for definition in definitions:\n",
    "        print definition"
   ]
  },
  {
   "cell_type": "code",
   "execution_count": null,
   "metadata": {
    "collapsed": false
   },
   "outputs": [],
   "source": [
    "a = 'afeawfa'"
   ]
  },
  {
   "cell_type": "code",
   "execution_count": null,
   "metadata": {
    "collapsed": false
   },
   "outputs": [],
   "source": [
    "a[-1]"
   ]
  },
  {
   "cell_type": "code",
   "execution_count": null,
   "metadata": {
    "collapsed": true
   },
   "outputs": [],
   "source": [
    "if not a[-1] == '.':\n",
    "    a = a + '.'"
   ]
  },
  {
   "cell_type": "code",
   "execution_count": null,
   "metadata": {
    "collapsed": false
   },
   "outputs": [],
   "source": [
    "print a"
   ]
  },
  {
   "cell_type": "code",
   "execution_count": null,
   "metadata": {
    "collapsed": true
   },
   "outputs": [],
   "source": [
    "import re"
   ]
  },
  {
   "cell_type": "code",
   "execution_count": null,
   "metadata": {
    "collapsed": false
   },
   "outputs": [],
   "source": [
    "re.sub('test','new', 'testtest')"
   ]
  },
  {
   "cell_type": "code",
   "execution_count": null,
   "metadata": {
    "collapsed": false
   },
   "outputs": [],
   "source": [
    "string = \"my_string\"\n",
    "type(string)"
   ]
  },
  {
   "cell_type": "code",
   "execution_count": null,
   "metadata": {
    "collapsed": true
   },
   "outputs": [],
   "source": [
    "my_unicode = u\"Hi \\u2119\""
   ]
  },
  {
   "cell_type": "code",
   "execution_count": null,
   "metadata": {
    "collapsed": false
   },
   "outputs": [],
   "source": [
    "len(my_unicode)"
   ]
  },
  {
   "cell_type": "code",
   "execution_count": null,
   "metadata": {
    "collapsed": false
   },
   "outputs": [],
   "source": [
    "print my_unicode"
   ]
  },
  {
   "cell_type": "code",
   "execution_count": null,
   "metadata": {
    "collapsed": true
   },
   "outputs": [],
   "source": [
    "my_utf8 = my_unicode.encode('utf-8')"
   ]
  },
  {
   "cell_type": "code",
   "execution_count": null,
   "metadata": {
    "collapsed": false
   },
   "outputs": [],
   "source": [
    "print my_utf8"
   ]
  },
  {
   "cell_type": "code",
   "execution_count": null,
   "metadata": {
    "collapsed": false
   },
   "outputs": [],
   "source": [
    "type(my_unicode)"
   ]
  },
  {
   "cell_type": "code",
   "execution_count": null,
   "metadata": {
    "collapsed": false
   },
   "outputs": [],
   "source": [
    "type(my_utf8)"
   ]
  },
  {
   "cell_type": "code",
   "execution_count": null,
   "metadata": {
    "collapsed": false
   },
   "outputs": [],
   "source": [
    "uni = my_utf8.decode('utf-8')"
   ]
  },
  {
   "cell_type": "code",
   "execution_count": null,
   "metadata": {
    "collapsed": false
   },
   "outputs": [],
   "source": [
    "type(uni)"
   ]
  },
  {
   "cell_type": "code",
   "execution_count": null,
   "metadata": {
    "collapsed": false
   },
   "outputs": [],
   "source": [
    "len(my_utf8)"
   ]
  },
  {
   "cell_type": "code",
   "execution_count": null,
   "metadata": {
    "collapsed": false
   },
   "outputs": [],
   "source": [
    "print uni"
   ]
  },
  {
   "cell_type": "code",
   "execution_count": null,
   "metadata": {
    "collapsed": false
   },
   "outputs": [],
   "source": [
    "print my_utf8"
   ]
  },
  {
   "cell_type": "code",
   "execution_count": null,
   "metadata": {
    "collapsed": false
   },
   "outputs": [],
   "source": [
    "my_utf8"
   ]
  },
  {
   "cell_type": "code",
   "execution_count": null,
   "metadata": {
    "collapsed": false
   },
   "outputs": [],
   "source": [
    "my_unicode.encode('ascii')"
   ]
  },
  {
   "cell_type": "code",
   "execution_count": null,
   "metadata": {
    "collapsed": false
   },
   "outputs": [],
   "source": [
    "uni2 = my_utf8.decode('ascii', 'ignore')"
   ]
  },
  {
   "cell_type": "code",
   "execution_count": null,
   "metadata": {
    "collapsed": false
   },
   "outputs": [],
   "source": [
    "type(uni2)"
   ]
  },
  {
   "cell_type": "code",
   "execution_count": null,
   "metadata": {
    "collapsed": false
   },
   "outputs": [],
   "source": [
    "u\"hello\" + my_utf8"
   ]
  },
  {
   "cell_type": "code",
   "execution_count": null,
   "metadata": {
    "collapsed": false
   },
   "outputs": [],
   "source": [
    "print my_unicode"
   ]
  },
  {
   "cell_type": "code",
   "execution_count": null,
   "metadata": {
    "collapsed": false
   },
   "outputs": [],
   "source": [
    "word = 'hehe'\n",
    "u'{{c1::{}}}'.format(word)"
   ]
  },
  {
   "cell_type": "code",
   "execution_count": null,
   "metadata": {
    "collapsed": false
   },
   "outputs": [],
   "source": [
    "print u'{{{{}}}}'.format('wefae')"
   ]
  },
  {
   "cell_type": "code",
   "execution_count": null,
   "metadata": {
    "collapsed": false
   },
   "outputs": [],
   "source": [
    "1.5*63"
   ]
  },
  {
   "cell_type": "code",
   "execution_count": null,
   "metadata": {
    "collapsed": false
   },
   "outputs": [],
   "source": [
    "1.5*70"
   ]
  },
  {
   "cell_type": "code",
   "execution_count": null,
   "metadata": {
    "collapsed": false
   },
   "outputs": [],
   "source": [
    "1.5*63"
   ]
  },
  {
   "cell_type": "code",
   "execution_count": null,
   "metadata": {
    "collapsed": false
   },
   "outputs": [],
   "source": [
    "1.5*68"
   ]
  },
  {
   "cell_type": "code",
   "execution_count": null,
   "metadata": {
    "collapsed": false
   },
   "outputs": [],
   "source": [
    "1.5*63"
   ]
  },
  {
   "cell_type": "code",
   "execution_count": null,
   "metadata": {
    "collapsed": false
   },
   "outputs": [],
   "source": [
    "f = open('test.txt', 'w')"
   ]
  },
  {
   "cell_type": "code",
   "execution_count": null,
   "metadata": {
    "collapsed": false
   },
   "outputs": [],
   "source": [
    "import card_creator"
   ]
  },
  {
   "cell_type": "code",
   "execution_count": null,
   "metadata": {
    "collapsed": false
   },
   "outputs": [],
   "source": [
    "import sys\n",
    "sys.path.append('/Users/alexanderlitven/Projects/vocabulary_flash_cards_creator/')"
   ]
  },
  {
   "cell_type": "code",
   "execution_count": null,
   "metadata": {
    "collapsed": false
   },
   "outputs": [],
   "source": [
    "import vocabulary_creator\n",
    "reload(vocabulary_creator)\n",
    "from vocabulary_creator import get_args\n",
    "get_args()"
   ]
  },
  {
   "cell_type": "code",
   "execution_count": null,
   "metadata": {
    "collapsed": false
   },
   "outputs": [],
   "source": [
    "a = AnkiObject('awefe')"
   ]
  },
  {
   "cell_type": "code",
   "execution_count": null,
   "metadata": {
    "collapsed": false
   },
   "outputs": [],
   "source": [
    "from vocabulary_creator import AnkiWord"
   ]
  },
  {
   "cell_type": "code",
   "execution_count": null,
   "metadata": {
    "collapsed": false
   },
   "outputs": [],
   "source": [
    "word = AnkiWord('restart')"
   ]
  },
  {
   "cell_type": "code",
   "execution_count": null,
   "metadata": {
    "collapsed": true
   },
   "outputs": [],
   "source": [
    "from dictionary_parser import dictionary_entry"
   ]
  },
  {
   "cell_type": "code",
   "execution_count": null,
   "metadata": {
    "collapsed": true
   },
   "outputs": [],
   "source": [
    "word = dictionary_entry('restart')"
   ]
  },
  {
   "cell_type": "code",
   "execution_count": null,
   "metadata": {
    "collapsed": false
   },
   "outputs": [],
   "source": [
    "anki_word = AnkiWord(word)"
   ]
  },
  {
   "cell_type": "code",
   "execution_count": null,
   "metadata": {
    "collapsed": false
   },
   "outputs": [],
   "source": [
    "anki_word.question_text()"
   ]
  },
  {
   "cell_type": "code",
   "execution_count": null,
   "metadata": {
    "collapsed": true
   },
   "outputs": [],
   "source": [
    "from card_creator import get_collection, get_all_answers_from_collection"
   ]
  },
  {
   "cell_type": "code",
   "execution_count": null,
   "metadata": {
    "collapsed": true
   },
   "outputs": [],
   "source": [
    "default_path = '/Users/alexanderlitven/Documents/Anki/User 1/' + \\\n",
    "                    'collection.anki2'"
   ]
  },
  {
   "cell_type": "code",
   "execution_count": null,
   "metadata": {
    "collapsed": false
   },
   "outputs": [],
   "source": [
    "collection = get_collection(default_path)"
   ]
  },
  {
   "cell_type": "code",
   "execution_count": null,
   "metadata": {
    "collapsed": false
   },
   "outputs": [],
   "source": [
    "words_in_collection = []\n",
    "for answers in get_all_answers_from_collection(collection, 'vocab_mc'):\n",
    "    words = answers.split()\n",
    "    if len(words) == 1:\n",
    "        words_in_collection.append(words[0])"
   ]
  },
  {
   "cell_type": "code",
   "execution_count": null,
   "metadata": {
    "collapsed": false
   },
   "outputs": [],
   "source": [
    "print words_in_collection"
   ]
  },
  {
   "cell_type": "code",
   "execution_count": null,
   "metadata": {
    "collapsed": false
   },
   "outputs": [],
   "source": [
    "with open('/Users/alexanderlitven/Projects/vocabulary_flash_cards_creator/anki_words.txt', 'w') as f:\n",
    "    for word in words_in_collection:\n",
    "        f.writelines(word + '\\n')"
   ]
  },
  {
   "cell_type": "code",
   "execution_count": null,
   "metadata": {
    "collapsed": false
   },
   "outputs": [],
   "source": [
    "os.getcwd()"
   ]
  },
  {
   "cell_type": "code",
   "execution_count": null,
   "metadata": {
    "collapsed": false
   },
   "outputs": [],
   "source": [
    "print len(words_in_collection)"
   ]
  },
  {
   "cell_type": "code",
   "execution_count": null,
   "metadata": {
    "collapsed": true
   },
   "outputs": [],
   "source": [
    "from ConfigParser import SafeConfigParser"
   ]
  },
  {
   "cell_type": "code",
   "execution_count": null,
   "metadata": {
    "collapsed": false
   },
   "outputs": [],
   "source": [
    "config = SafeConfigParser()\n",
    "config.read('config.ini')\n",
    "#config.add_section('main')\n",
    "config.set('main', 'key1', 'value1')\n",
    "\n",
    "with open('config.ini', 'w') as f:\n",
    "    config.write(f)"
   ]
  },
  {
   "cell_type": "code",
   "execution_count": null,
   "metadata": {
    "collapsed": false
   },
   "outputs": [],
   "source": [
    "config.remove_option('main', 'key1')"
   ]
  },
  {
   "cell_type": "code",
   "execution_count": null,
   "metadata": {
    "collapsed": false
   },
   "outputs": [],
   "source": [
    "print config.options('main')"
   ]
  },
  {
   "cell_type": "code",
   "execution_count": null,
   "metadata": {
    "collapsed": true
   },
   "outputs": [],
   "source": [
    "config = SafeConfigParser()"
   ]
  },
  {
   "cell_type": "code",
   "execution_count": null,
   "metadata": {
    "collapsed": false
   },
   "outputs": [],
   "source": [
    "config.read('awefaw.ini')"
   ]
  },
  {
   "cell_type": "code",
   "execution_count": null,
   "metadata": {
    "collapsed": false
   },
   "outputs": [],
   "source": [
    "if not config.sections():\n",
    "    print 'awfwe'"
   ]
  },
  {
   "cell_type": "code",
   "execution_count": null,
   "metadata": {
    "collapsed": true
   },
   "outputs": [],
   "source": [
    "from collections import namedtuple"
   ]
  },
  {
   "cell_type": "code",
   "execution_count": null,
   "metadata": {
    "collapsed": false
   },
   "outputs": [],
   "source": [
    "a = namedtuple('Args','collection_path')"
   ]
  },
  {
   "cell_type": "code",
   "execution_count": null,
   "metadata": {
    "collapsed": false
   },
   "outputs": [],
   "source": [
    "args = a(collection_path='waefeaw')"
   ]
  },
  {
   "cell_type": "code",
   "execution_count": null,
   "metadata": {
    "collapsed": false
   },
   "outputs": [],
   "source": [
    "args.collection_path"
   ]
  },
  {
   "cell_type": "code",
   "execution_count": null,
   "metadata": {
    "collapsed": false
   },
   "outputs": [],
   "source": [
    "config.defaults()"
   ]
  },
  {
   "cell_type": "code",
   "execution_count": null,
   "metadata": {
    "collapsed": true
   },
   "outputs": [],
   "source": [
    "import os"
   ]
  },
  {
   "cell_type": "code",
   "execution_count": null,
   "metadata": {
    "collapsed": false
   },
   "outputs": [],
   "source": [
    "os.path.dirname(os.path.realpath(vocabulary_creator.__file__))"
   ]
  },
  {
   "cell_type": "code",
   "execution_count": null,
   "metadata": {
    "collapsed": true
   },
   "outputs": [],
   "source": [
    "s = ''"
   ]
  },
  {
   "cell_type": "code",
   "execution_count": null,
   "metadata": {
    "collapsed": false
   },
   "outputs": [],
   "source": [
    "if not s:\n",
    "    print 'awefawe'"
   ]
  },
  {
   "cell_type": "code",
   "execution_count": null,
   "metadata": {
    "collapsed": false
   },
   "outputs": [],
   "source": [
    "import re\n",
    "print re.sub('simple', u'{{simple}}', 'Simple!', flags=re.I)"
   ]
  },
  {
   "cell_type": "code",
   "execution_count": null,
   "metadata": {
    "collapsed": true
   },
   "outputs": [],
   "source": []
  }
 ],
 "metadata": {
  "kernelspec": {
   "display_name": "Python 2",
   "language": "python",
   "name": "python2"
  },
  "language_info": {
   "codemirror_mode": {
    "name": "ipython",
    "version": 2
   },
   "file_extension": ".py",
   "mimetype": "text/x-python",
   "name": "python",
   "nbconvert_exporter": "python",
   "pygments_lexer": "ipython2",
   "version": "2.7.11"
  }
 },
 "nbformat": 4,
 "nbformat_minor": 0
}
