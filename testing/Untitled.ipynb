{
 "cells": [
  {
   "cell_type": "code",
   "execution_count": 1,
   "metadata": {
    "collapsed": false
   },
   "outputs": [
    {
     "ename": "ImportError",
     "evalue": "No module named dictionary_parser",
     "output_type": "error",
     "traceback": [
      "\u001b[0;31m---------------------------------------------------------------------------\u001b[0m",
      "\u001b[0;31mImportError\u001b[0m                               Traceback (most recent call last)",
      "\u001b[0;32m<ipython-input-1-66d4df69ffd5>\u001b[0m in \u001b[0;36m<module>\u001b[0;34m()\u001b[0m\n\u001b[1;32m      1\u001b[0m \u001b[0;31m# EXPERIMENT\u001b[0m\u001b[0;34m\u001b[0m\u001b[0;34m\u001b[0m\u001b[0m\n\u001b[1;32m      2\u001b[0m \u001b[0;31m# Get dictionary entry from mac dictionary\u001b[0m\u001b[0;34m\u001b[0m\u001b[0;34m\u001b[0m\u001b[0m\n\u001b[0;32m----> 3\u001b[0;31m \u001b[0;32mimport\u001b[0m \u001b[0mdictionary_parser\u001b[0m\u001b[0;34m\u001b[0m\u001b[0m\n\u001b[0m\u001b[1;32m      4\u001b[0m \u001b[0mreload\u001b[0m\u001b[0;34m(\u001b[0m\u001b[0mdictionary_parser\u001b[0m\u001b[0;34m)\u001b[0m\u001b[0;34m\u001b[0m\u001b[0m\n\u001b[1;32m      5\u001b[0m \u001b[0;32mfrom\u001b[0m \u001b[0mdictionary_parser\u001b[0m \u001b[0;32mimport\u001b[0m \u001b[0mdictionary_entry\u001b[0m\u001b[0;34m\u001b[0m\u001b[0m\n",
      "\u001b[0;31mImportError\u001b[0m: No module named dictionary_parser"
     ]
    }
   ],
   "source": [
    "# EXPERIMENT\n",
    "# Get dictionary entry from mac dictionary\n",
    "import dictionary_parser\n",
    "reload(dictionary_parser)\n",
    "from dictionary_parser import dictionary_entry\n",
    "\n",
    "word = 'cool'\n",
    "entry = dictionary_entry(word,3,1)"
   ]
  },
  {
   "cell_type": "code",
   "execution_count": 11,
   "metadata": {
    "collapsed": false
   },
   "outputs": [
    {
     "name": "stdout",
     "output_type": "stream",
     "text": [
      "third |THərd| ▶ordinal number constituting number three in a sequence; 3rd: the third century | the third of October | Edward the Third. • (a third/one third) each of three equal parts into which something is or may be divided: a third of a mile. • the third finisher or position in a race or competition: Hill finished third. • the third in a sequence of a vehicle's gears: he took the corner in third. • Baseball third base. • the third grade of a school. • thirdly (used to introduce a third point or reason): second, they are lightly regulated; and third, they do business with nonresident clients. • Music an interval spanning three consecutive notes in a diatonic scale, e.g., C to E (major third, equal to two tones) or A to C (minor third, equal to a tone and a semitone). • Music the note which is higher by a third than the tonic of a diatonic scale or root of a chord. • Brit. a place in the third-highest grade in an examination, especially that for a degree. PHRASES third time is a charm (or Brit. third time lucky) used to express the hope that, after twice failing to accomplish something, one may succeed in the third attempt.ORIGIN Old English thridda, of Germanic origin; related to Dutch derde and German dritte, also to three. The spelling thrid was dominant until the 16th cent. (but thirdda is recorded in Northumbrian dialect as early as the 10th cent).\n"
     ]
    }
   ],
   "source": [
    "import sys\n",
    "sys.path.append('/System/Library/Frameworks/Python.framework/Versions/2.7/Extras/lib/python/PyObjC')\n",
    "from DictionaryServices import DCSCopyTextDefinition\n",
    "word = 'third'\n",
    "word_range = (0, len(word))\n",
    "dictionary_result = DCSCopyTextDefinition(None, word, word_range)\n",
    "print dictionary_result"
   ]
  },
  {
   "cell_type": "code",
   "execution_count": null,
   "metadata": {
    "collapsed": false
   },
   "outputs": [],
   "source": [
    "# EXPERIMENT\n",
    "# Regular expressions\n",
    "import re\n",
    "\n",
    "# Parse each arrow symbol from the entry\n",
    "symbol = '▶'.decode('utf-8')\n",
    "symbol_regex = re.compile(symbol)\n",
    "symbols = symbol_regex.findall(entry)\n",
    "\n",
    "# Parse words in caps\n",
    "capital_words = ['PHRASES', 'DERIVATIVES', 'ORIGIN']\n",
    "capitals_regex = re.compile('|'.join(capital_words))\n",
    "capitals = capitals_regex.search(entry)\n",
    "\n",
    "# Parse arrow symbol or word in caps\n",
    "seperators_regex = re.compile('|'.join(capital_words + [t]))\n",
    "seperators = seperators_regex.findall(entry)"
   ]
  },
  {
   "cell_type": "code",
   "execution_count": null,
   "metadata": {
    "collapsed": false
   },
   "outputs": [],
   "source": [
    "# EXPERIMENT\n",
    "# create dictionary entries\n",
    "import re\n",
    "import Wrappers\n",
    "reload(Wrappers)\n",
    "from Wrappers import Definition, DictionaryEntry\n",
    "\n",
    "num_definitions = 1\n",
    "num_parts_of_speech = 4\n",
    "\n",
    "def add_period(string):\n",
    "    if not string[-1] == '.':\n",
    "        return string + '.'\n",
    "    else:\n",
    "        return string\n",
    "\n",
    "symbol = '▶'.decode('utf-8')\n",
    "capital_words = ['PHRASES', 'DERIVATIVES', 'ORIGIN']\n",
    "\n",
    "# Create separator regex\n",
    "separator = '(' + '|'.join(capital_words + [symbol]) + ')'\n",
    "regex = separator + r'(.*?)' + separator\n",
    "separated_text = re.split(regex, entry)\n",
    "\n",
    "# get parts of speech text\n",
    "parts_of_speech_text = []\n",
    "for index, text in enumerate(separated_text):\n",
    "    if symbol in text:\n",
    "        parts_of_speech_text.append(separated_text[index+1])\n",
    "\n",
    "dict_entry = DictionaryEntry()\n",
    "#text = parts_of_speech_text[0]\n",
    "for text in parts_of_speech_text:\n",
    "    \n",
    "    # split the text by numbers, otherwise by first word\n",
    "    split_text = re.split(r' \\d ', text)\n",
    "    if len(split_text) == 1:\n",
    "        split_text = text.split(' ', 1)\n",
    "\n",
    "    part_of_speech = split_text[0]\n",
    "        \n",
    "    for definitions in split_text[1:]:\n",
    "\n",
    "        # only grab first definition\n",
    "        dot = '•'.decode('utf-8')\n",
    "        dot_index = definitions.find(dot)\n",
    "        definition_text = definitions[:dot_index]\n",
    "        colon_index = definition_text.find(':')\n",
    "        description = definition_text[:colon_index].strip()\n",
    "        description = add_period(description)\n",
    "        \n",
    "        usages = []\n",
    "        if colon_index > 0:\n",
    "            usages = definition_text[colon_index+1:].split('|')\n",
    "            usages = [add_period(usage.strip()) \n",
    "                      for usage in usages]\n",
    "\n",
    "        definition = Definition(description, usages)\n",
    "        dict_entry.add_definition(part_of_speech, definition)\n",
    "        if len(dict_entry[part_of_speech]) == num_definitions:\n",
    "            break\n",
    "    if len(dict_entry.items()) == num_parts_of_speech:\n",
    "        break"
   ]
  },
  {
   "cell_type": "code",
   "execution_count": null,
   "metadata": {
    "collapsed": false
   },
   "outputs": [],
   "source": [
    "# experiment\n",
    "# display the definitions\n",
    "for part_of_speech, definitions in dict_entry.iteritems():\n",
    "    print part_of_speech + '\\n'\n",
    "    for definition in definitions:\n",
    "        print definition"
   ]
  },
  {
   "cell_type": "code",
   "execution_count": null,
   "metadata": {
    "collapsed": false
   },
   "outputs": [],
   "source": [
    "a = 'afeawfa'"
   ]
  },
  {
   "cell_type": "code",
   "execution_count": null,
   "metadata": {
    "collapsed": false
   },
   "outputs": [],
   "source": [
    "a[-1]"
   ]
  },
  {
   "cell_type": "code",
   "execution_count": null,
   "metadata": {
    "collapsed": true
   },
   "outputs": [],
   "source": [
    "if not a[-1] == '.':\n",
    "    a = a + '.'"
   ]
  },
  {
   "cell_type": "code",
   "execution_count": null,
   "metadata": {
    "collapsed": false
   },
   "outputs": [],
   "source": [
    "print a"
   ]
  },
  {
   "cell_type": "code",
   "execution_count": 10,
   "metadata": {
    "collapsed": true
   },
   "outputs": [],
   "source": [
    "import re"
   ]
  },
  {
   "cell_type": "code",
   "execution_count": 12,
   "metadata": {
    "collapsed": false
   },
   "outputs": [
    {
     "data": {
      "text/plain": [
       "'newnew'"
      ]
     },
     "execution_count": 12,
     "metadata": {},
     "output_type": "execute_result"
    }
   ],
   "source": [
    "re.sub('test','new', 'testtest')"
   ]
  },
  {
   "cell_type": "code",
   "execution_count": null,
   "metadata": {
    "collapsed": true
   },
   "outputs": [],
   "source": []
  }
 ],
 "metadata": {
  "kernelspec": {
   "display_name": "Python 2",
   "language": "python",
   "name": "python2"
  },
  "language_info": {
   "codemirror_mode": {
    "name": "ipython",
    "version": 2
   },
   "file_extension": ".py",
   "mimetype": "text/x-python",
   "name": "python",
   "nbconvert_exporter": "python",
   "pygments_lexer": "ipython2",
   "version": "2.7.11"
  }
 },
 "nbformat": 4,
 "nbformat_minor": 0
}
