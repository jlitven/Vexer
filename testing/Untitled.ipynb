{
 "cells": [
  {
   "cell_type": "code",
   "execution_count": 1,
   "metadata": {
    "collapsed": false
   },
   "outputs": [],
   "source": [
    "# EXPERIMENT\n",
    "# Get dictionary entry from mac dictionary\n",
    "import dictionary_parser\n",
    "reload(dictionary_parser)\n",
    "from dictionary_parser import dictionary_entry\n",
    "\n",
    "word = 'cool'\n",
    "entry = dictionary_entry(word,3,1)"
   ]
  },
  {
   "cell_type": "code",
   "execution_count": 2,
   "metadata": {
    "collapsed": false
   },
   "outputs": [
    {
     "name": "stdout",
     "output_type": "stream",
     "text": [
      "adjective\n",
      "defn:\n",
      "of or at a fairly low temperature. \n",
      "usage:\n",
      "it'll be a cool afternoon.\n",
      "the wind kept them cool.\n",
      "defn:\n",
      "informal fashionably attractive or impressive. \n",
      "usage:\n",
      "I always wore sunglasses to look cool.\n",
      "defn:\n",
      "(a cool ——) informal used to emphasize a specified quantity or amount, especially of money. \n",
      "usage:\n",
      "a cool $15,000 to buy the franchise.\n",
      "\n"
     ]
    }
   ],
   "source": [
    "print entry"
   ]
  },
  {
   "cell_type": "code",
   "execution_count": null,
   "metadata": {
    "collapsed": false
   },
   "outputs": [],
   "source": [
    "# EXPERIMENT\n",
    "# Regular expressions\n",
    "import re\n",
    "\n",
    "# Parse each arrow symbol from the entry\n",
    "symbol = '▶'.decode('utf-8')\n",
    "symbol_regex = re.compile(symbol)\n",
    "symbols = symbol_regex.findall(entry)\n",
    "\n",
    "# Parse words in caps\n",
    "capital_words = ['PHRASES', 'DERIVATIVES', 'ORIGIN']\n",
    "capitals_regex = re.compile('|'.join(capital_words))\n",
    "capitals = capitals_regex.search(entry)\n",
    "\n",
    "# Parse arrow symbol or word in caps\n",
    "seperators_regex = re.compile('|'.join(capital_words + [t]))\n",
    "seperators = seperators_regex.findall(entry)"
   ]
  },
  {
   "cell_type": "code",
   "execution_count": null,
   "metadata": {
    "collapsed": false
   },
   "outputs": [],
   "source": [
    "# EXPERIMENT\n",
    "# create dictionary entries\n",
    "import re\n",
    "import Wrappers\n",
    "reload(Wrappers)\n",
    "from Wrappers import Definition, DictionaryEntry\n",
    "\n",
    "num_definitions = 1\n",
    "num_parts_of_speech = 4\n",
    "\n",
    "def add_period(string):\n",
    "    if not string[-1] == '.':\n",
    "        return string + '.'\n",
    "    else:\n",
    "        return string\n",
    "\n",
    "symbol = '▶'.decode('utf-8')\n",
    "capital_words = ['PHRASES', 'DERIVATIVES', 'ORIGIN']\n",
    "\n",
    "# Create separator regex\n",
    "separator = '(' + '|'.join(capital_words + [symbol]) + ')'\n",
    "regex = separator + r'(.*?)' + separator\n",
    "separated_text = re.split(regex, entry)\n",
    "\n",
    "# get parts of speech text\n",
    "parts_of_speech_text = []\n",
    "for index, text in enumerate(separated_text):\n",
    "    if symbol in text:\n",
    "        parts_of_speech_text.append(separated_text[index+1])\n",
    "\n",
    "dict_entry = DictionaryEntry()\n",
    "#text = parts_of_speech_text[0]\n",
    "for text in parts_of_speech_text:\n",
    "    \n",
    "    # split the text by numbers, otherwise by first word\n",
    "    split_text = re.split(r' \\d ', text)\n",
    "    if len(split_text) == 1:\n",
    "        split_text = text.split(' ', 1)\n",
    "\n",
    "    part_of_speech = split_text[0]\n",
    "        \n",
    "    for definitions in split_text[1:]:\n",
    "\n",
    "        # only grab first definition\n",
    "        dot = '•'.decode('utf-8')\n",
    "        dot_index = definitions.find(dot)\n",
    "        definition_text = definitions[:dot_index]\n",
    "        colon_index = definition_text.find(':')\n",
    "        description = definition_text[:colon_index].strip()\n",
    "        description = add_period(description)\n",
    "        \n",
    "        usages = []\n",
    "        if colon_index > 0:\n",
    "            usages = definition_text[colon_index+1:].split('|')\n",
    "            usages = [add_period(usage.strip()) \n",
    "                      for usage in usages]\n",
    "\n",
    "        definition = Definition(description, usages)\n",
    "        dict_entry.add_definition(part_of_speech, definition)\n",
    "        if len(dict_entry[part_of_speech]) == num_definitions:\n",
    "            break\n",
    "    if len(dict_entry.items()) == num_parts_of_speech:\n",
    "        break"
   ]
  },
  {
   "cell_type": "code",
   "execution_count": null,
   "metadata": {
    "collapsed": false
   },
   "outputs": [],
   "source": [
    "# experiment\n",
    "# display the definitions\n",
    "for part_of_speech, definitions in dict_entry.iteritems():\n",
    "    print part_of_speech + '\\n'\n",
    "    for definition in definitions:\n",
    "        print definition"
   ]
  },
  {
   "cell_type": "code",
   "execution_count": null,
   "metadata": {
    "collapsed": false
   },
   "outputs": [],
   "source": [
    "a = 'afeawfa'"
   ]
  },
  {
   "cell_type": "code",
   "execution_count": null,
   "metadata": {
    "collapsed": false
   },
   "outputs": [],
   "source": [
    "a[-1]"
   ]
  },
  {
   "cell_type": "code",
   "execution_count": null,
   "metadata": {
    "collapsed": true
   },
   "outputs": [],
   "source": [
    "if not a[-1] == '.':\n",
    "    a = a + '.'"
   ]
  },
  {
   "cell_type": "code",
   "execution_count": null,
   "metadata": {
    "collapsed": false
   },
   "outputs": [],
   "source": [
    "print a"
   ]
  },
  {
   "cell_type": "code",
   "execution_count": null,
   "metadata": {
    "collapsed": true
   },
   "outputs": [],
   "source": []
  }
 ],
 "metadata": {
  "kernelspec": {
   "display_name": "Python 2",
   "language": "python",
   "name": "python2"
  },
  "language_info": {
   "codemirror_mode": {
    "name": "ipython",
    "version": 2
   },
   "file_extension": ".py",
   "mimetype": "text/x-python",
   "name": "python",
   "nbconvert_exporter": "python",
   "pygments_lexer": "ipython2",
   "version": "2.7.11"
  }
 },
 "nbformat": 4,
 "nbformat_minor": 0
}
